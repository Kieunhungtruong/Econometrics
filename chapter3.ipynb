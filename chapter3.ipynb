{
  "nbformat": 4,
  "nbformat_minor": 0,
  "metadata": {
    "colab": {
      "provenance": [],
      "mount_file_id": "1uCsBRUEXe1TQf_e94Y3Q0zoHX-F583OC",
      "authorship_tag": "ABX9TyMUuC2+v2Zie1atbBMEpguv",
      "include_colab_link": true
    },
    "kernelspec": {
      "name": "python3",
      "display_name": "Python 3"
    },
    "language_info": {
      "name": "python"
    }
  },
  "cells": [
    {
      "cell_type": "markdown",
      "metadata": {
        "id": "view-in-github",
        "colab_type": "text"
      },
      "source": [
        "<a href=\"https://colab.research.google.com/github/Kieunhungtruong/Econometrics/blob/main/chapter3.ipynb\" target=\"_parent\"><img src=\"https://colab.research.google.com/assets/colab-badge.svg\" alt=\"Open In Colab\"/></a>"
      ]
    },
    {
      "cell_type": "code",
      "source": [
        "from google.colab import drive\n",
        "drive.mount(\"/content/drive/\", force_remount=True)"
      ],
      "metadata": {
        "id": "viwAruQx5smj",
        "outputId": "34a90205-4ad1-43e6-b8dd-ac030b81e8ee",
        "colab": {
          "base_uri": "https://localhost:8080/"
        }
      },
      "execution_count": 84,
      "outputs": [
        {
          "output_type": "stream",
          "name": "stdout",
          "text": [
            "Mounted at /content/drive/\n"
          ]
        }
      ]
    },
    {
      "cell_type": "markdown",
      "source": [
        "<div style=\"display: flex; flex-direction: column; align-items: center; justify-content: center; gap: 10px;\">\n",
        "    <h1 style=\"text-align: center; font-size: 26px; font-weight: bold; font-family:'Nunito'; color: purple;\">\n",
        "        Chapter 3\n",
        "    </h1>\n",
        "</div>\n"
      ],
      "metadata": {
        "id": "uOzlHOUd0G5m"
      }
    },
    {
      "cell_type": "markdown",
      "source": [
        "**Gọi các gói cần thiết trong chương 3**"
      ],
      "metadata": {
        "id": "hm3yy6Io7uiA"
      }
    },
    {
      "cell_type": "code",
      "execution_count": 85,
      "metadata": {
        "id": "oYbL8p5X1fIE",
        "colab": {
          "base_uri": "https://localhost:8080/"
        },
        "outputId": "0a849052-d16d-45eb-e5e9-81a266603c44"
      },
      "outputs": [
        {
          "output_type": "stream",
          "name": "stdout",
          "text": [
            "Requirement already satisfied: pyreadstat in /usr/local/lib/python3.11/dist-packages (1.2.9)\n",
            "Requirement already satisfied: pandas>=1.2.0 in /usr/local/lib/python3.11/dist-packages (from pyreadstat) (2.2.2)\n",
            "Requirement already satisfied: numpy>=1.23.2 in /usr/local/lib/python3.11/dist-packages (from pandas>=1.2.0->pyreadstat) (2.0.2)\n",
            "Requirement already satisfied: python-dateutil>=2.8.2 in /usr/local/lib/python3.11/dist-packages (from pandas>=1.2.0->pyreadstat) (2.9.0.post0)\n",
            "Requirement already satisfied: pytz>=2020.1 in /usr/local/lib/python3.11/dist-packages (from pandas>=1.2.0->pyreadstat) (2025.2)\n",
            "Requirement already satisfied: tzdata>=2022.7 in /usr/local/lib/python3.11/dist-packages (from pandas>=1.2.0->pyreadstat) (2025.2)\n",
            "Requirement already satisfied: six>=1.5 in /usr/local/lib/python3.11/dist-packages (from python-dateutil>=2.8.2->pandas>=1.2.0->pyreadstat) (1.17.0)\n"
          ]
        }
      ],
      "source": [
        "!pip install pyreadstat\n",
        "import pandas as pd\n",
        "import numpy as np\n",
        "import matplotlib.pyplot as plt #from matplotlib import pyplot as plt\n",
        "import plotly.express as px\n",
        "import seaborn as sns\n",
        "import statsmodels.api as sm\n",
        "import pyreadstat\n",
        "from statsmodels.nonparametric.smoothers_lowess import lowess\n"
      ]
    },
    {
      "cell_type": "code",
      "source": [
        "# Bảng màu mẫu\n",
        "palette = [\"#53b0ae\", \"#a31414\", \"#2b6999\", \"#e37000\", \"#b2c615\", \"#88837d\",\"#B3B3B3\"]\n",
        "labels = [\"cyan\", \"Red\", \"Dark Blue\", \"Orange\", \"Green\", \"Gray\",\"Light Gray\"]"
      ],
      "metadata": {
        "id": "tUiEG3ooZSKU"
      },
      "execution_count": 86,
      "outputs": []
    },
    {
      "cell_type": "code",
      "source": [
        "df, meta = pyreadstat.read_dta(\"/content/drive/MyDrive/econometrics/rawdata/migration_remittances_16_full.dta\", encoding='latin1')\n",
        "df"
      ],
      "metadata": {
        "id": "r_3sAMgr7pFH",
        "colab": {
          "base_uri": "https://localhost:8080/",
          "height": 443
        },
        "outputId": "975891af-cb34-403a-9f1e-05a52d4837e6"
      },
      "execution_count": 87,
      "outputs": [
        {
          "output_type": "execute_result",
          "data": {
            "text/plain": [
              "      tinh  huyen     xa  diaban  hoso  num_migration  marital_status  HHsize  \\\n",
              "0        1      1      4       8    14            NaN               0     2.0   \n",
              "1        1      1      4       8    15            NaN               1     5.0   \n",
              "2        1      1      4       8    19            NaN               1     2.0   \n",
              "3        1      1      7       6    13            NaN               1     3.0   \n",
              "4        1      1      7       6    14            NaN               1     5.0   \n",
              "...    ...    ...    ...     ...   ...            ...             ...     ...   \n",
              "9394    96    973  32242      18    14            NaN               1     4.0   \n",
              "9395    96    973  32242      18    15            NaN               1     3.0   \n",
              "9396    96    973  32248       9    13            NaN               1     5.0   \n",
              "9397    96    973  32248       9    14            NaN               1     4.0   \n",
              "9398    96    973  32248       9    19            NaN               1     4.0   \n",
              "\n",
              "      agehead  num_children0_5  ...  durables_share  housing_share  \\\n",
              "0        63.0              0.0  ...        0.000000       0.030590   \n",
              "1        37.0              0.0  ...        0.026955       0.011273   \n",
              "2        61.0              0.0  ...        0.000000       0.027630   \n",
              "3        62.0              0.0  ...        0.018952       0.022694   \n",
              "4        62.0              0.0  ...        0.000000       0.067794   \n",
              "...       ...              ...  ...             ...            ...   \n",
              "9394     57.0              0.0  ...        0.006153       0.003076   \n",
              "9395     53.0              0.0  ...        0.000000       0.007322   \n",
              "9396     45.0              0.0  ...        0.000000       0.006577   \n",
              "9397     36.0              0.0  ...        0.000000       0.005244   \n",
              "9398     57.0              0.0  ...        0.011156       0.049087   \n",
              "\n",
              "      others_share  healthcare_share  education_share  RedRiverDelta  \\\n",
              "0         0.021175          0.004854         0.044689            1.0   \n",
              "1         0.006304          0.000797         0.006511            1.0   \n",
              "2         0.013743          0.014355         0.000000            1.0   \n",
              "3         0.014611          0.002366         0.056978            1.0   \n",
              "4         0.004254          0.011658         0.002564            1.0   \n",
              "...            ...               ...              ...            ...   \n",
              "9394      0.004692          0.004922         0.000000            0.0   \n",
              "9395      0.001611          0.115197         0.000000            0.0   \n",
              "9396      0.005098          0.030914         0.004440            0.0   \n",
              "9397      0.007342          0.013635         0.005874            0.0   \n",
              "9398      0.007099          0.005477         0.000000            0.0   \n",
              "\n",
              "      Northmidlandareas  CentralCoast  Centralhighlands  MekongRiverDelta  \n",
              "0                   0.0           0.0               0.0               0.0  \n",
              "1                   0.0           0.0               0.0               0.0  \n",
              "2                   0.0           0.0               0.0               0.0  \n",
              "3                   0.0           0.0               0.0               0.0  \n",
              "4                   0.0           0.0               0.0               0.0  \n",
              "...                 ...           ...               ...               ...  \n",
              "9394                0.0           0.0               0.0               1.0  \n",
              "9395                0.0           0.0               0.0               1.0  \n",
              "9396                0.0           0.0               0.0               1.0  \n",
              "9397                0.0           0.0               0.0               1.0  \n",
              "9398                0.0           0.0               0.0               1.0  \n",
              "\n",
              "[9399 rows x 65 columns]"
            ],
            "text/html": [
              "\n",
              "  <div id=\"df-9c345acd-1d87-4fd1-8e3d-9efabc5ceaa7\" class=\"colab-df-container\">\n",
              "    <div>\n",
              "<style scoped>\n",
              "    .dataframe tbody tr th:only-of-type {\n",
              "        vertical-align: middle;\n",
              "    }\n",
              "\n",
              "    .dataframe tbody tr th {\n",
              "        vertical-align: top;\n",
              "    }\n",
              "\n",
              "    .dataframe thead th {\n",
              "        text-align: right;\n",
              "    }\n",
              "</style>\n",
              "<table border=\"1\" class=\"dataframe\">\n",
              "  <thead>\n",
              "    <tr style=\"text-align: right;\">\n",
              "      <th></th>\n",
              "      <th>tinh</th>\n",
              "      <th>huyen</th>\n",
              "      <th>xa</th>\n",
              "      <th>diaban</th>\n",
              "      <th>hoso</th>\n",
              "      <th>num_migration</th>\n",
              "      <th>marital_status</th>\n",
              "      <th>HHsize</th>\n",
              "      <th>agehead</th>\n",
              "      <th>num_children0_5</th>\n",
              "      <th>...</th>\n",
              "      <th>durables_share</th>\n",
              "      <th>housing_share</th>\n",
              "      <th>others_share</th>\n",
              "      <th>healthcare_share</th>\n",
              "      <th>education_share</th>\n",
              "      <th>RedRiverDelta</th>\n",
              "      <th>Northmidlandareas</th>\n",
              "      <th>CentralCoast</th>\n",
              "      <th>Centralhighlands</th>\n",
              "      <th>MekongRiverDelta</th>\n",
              "    </tr>\n",
              "  </thead>\n",
              "  <tbody>\n",
              "    <tr>\n",
              "      <th>0</th>\n",
              "      <td>1</td>\n",
              "      <td>1</td>\n",
              "      <td>4</td>\n",
              "      <td>8</td>\n",
              "      <td>14</td>\n",
              "      <td>NaN</td>\n",
              "      <td>0</td>\n",
              "      <td>2.0</td>\n",
              "      <td>63.0</td>\n",
              "      <td>0.0</td>\n",
              "      <td>...</td>\n",
              "      <td>0.000000</td>\n",
              "      <td>0.030590</td>\n",
              "      <td>0.021175</td>\n",
              "      <td>0.004854</td>\n",
              "      <td>0.044689</td>\n",
              "      <td>1.0</td>\n",
              "      <td>0.0</td>\n",
              "      <td>0.0</td>\n",
              "      <td>0.0</td>\n",
              "      <td>0.0</td>\n",
              "    </tr>\n",
              "    <tr>\n",
              "      <th>1</th>\n",
              "      <td>1</td>\n",
              "      <td>1</td>\n",
              "      <td>4</td>\n",
              "      <td>8</td>\n",
              "      <td>15</td>\n",
              "      <td>NaN</td>\n",
              "      <td>1</td>\n",
              "      <td>5.0</td>\n",
              "      <td>37.0</td>\n",
              "      <td>0.0</td>\n",
              "      <td>...</td>\n",
              "      <td>0.026955</td>\n",
              "      <td>0.011273</td>\n",
              "      <td>0.006304</td>\n",
              "      <td>0.000797</td>\n",
              "      <td>0.006511</td>\n",
              "      <td>1.0</td>\n",
              "      <td>0.0</td>\n",
              "      <td>0.0</td>\n",
              "      <td>0.0</td>\n",
              "      <td>0.0</td>\n",
              "    </tr>\n",
              "    <tr>\n",
              "      <th>2</th>\n",
              "      <td>1</td>\n",
              "      <td>1</td>\n",
              "      <td>4</td>\n",
              "      <td>8</td>\n",
              "      <td>19</td>\n",
              "      <td>NaN</td>\n",
              "      <td>1</td>\n",
              "      <td>2.0</td>\n",
              "      <td>61.0</td>\n",
              "      <td>0.0</td>\n",
              "      <td>...</td>\n",
              "      <td>0.000000</td>\n",
              "      <td>0.027630</td>\n",
              "      <td>0.013743</td>\n",
              "      <td>0.014355</td>\n",
              "      <td>0.000000</td>\n",
              "      <td>1.0</td>\n",
              "      <td>0.0</td>\n",
              "      <td>0.0</td>\n",
              "      <td>0.0</td>\n",
              "      <td>0.0</td>\n",
              "    </tr>\n",
              "    <tr>\n",
              "      <th>3</th>\n",
              "      <td>1</td>\n",
              "      <td>1</td>\n",
              "      <td>7</td>\n",
              "      <td>6</td>\n",
              "      <td>13</td>\n",
              "      <td>NaN</td>\n",
              "      <td>1</td>\n",
              "      <td>3.0</td>\n",
              "      <td>62.0</td>\n",
              "      <td>0.0</td>\n",
              "      <td>...</td>\n",
              "      <td>0.018952</td>\n",
              "      <td>0.022694</td>\n",
              "      <td>0.014611</td>\n",
              "      <td>0.002366</td>\n",
              "      <td>0.056978</td>\n",
              "      <td>1.0</td>\n",
              "      <td>0.0</td>\n",
              "      <td>0.0</td>\n",
              "      <td>0.0</td>\n",
              "      <td>0.0</td>\n",
              "    </tr>\n",
              "    <tr>\n",
              "      <th>4</th>\n",
              "      <td>1</td>\n",
              "      <td>1</td>\n",
              "      <td>7</td>\n",
              "      <td>6</td>\n",
              "      <td>14</td>\n",
              "      <td>NaN</td>\n",
              "      <td>1</td>\n",
              "      <td>5.0</td>\n",
              "      <td>62.0</td>\n",
              "      <td>0.0</td>\n",
              "      <td>...</td>\n",
              "      <td>0.000000</td>\n",
              "      <td>0.067794</td>\n",
              "      <td>0.004254</td>\n",
              "      <td>0.011658</td>\n",
              "      <td>0.002564</td>\n",
              "      <td>1.0</td>\n",
              "      <td>0.0</td>\n",
              "      <td>0.0</td>\n",
              "      <td>0.0</td>\n",
              "      <td>0.0</td>\n",
              "    </tr>\n",
              "    <tr>\n",
              "      <th>...</th>\n",
              "      <td>...</td>\n",
              "      <td>...</td>\n",
              "      <td>...</td>\n",
              "      <td>...</td>\n",
              "      <td>...</td>\n",
              "      <td>...</td>\n",
              "      <td>...</td>\n",
              "      <td>...</td>\n",
              "      <td>...</td>\n",
              "      <td>...</td>\n",
              "      <td>...</td>\n",
              "      <td>...</td>\n",
              "      <td>...</td>\n",
              "      <td>...</td>\n",
              "      <td>...</td>\n",
              "      <td>...</td>\n",
              "      <td>...</td>\n",
              "      <td>...</td>\n",
              "      <td>...</td>\n",
              "      <td>...</td>\n",
              "      <td>...</td>\n",
              "    </tr>\n",
              "    <tr>\n",
              "      <th>9394</th>\n",
              "      <td>96</td>\n",
              "      <td>973</td>\n",
              "      <td>32242</td>\n",
              "      <td>18</td>\n",
              "      <td>14</td>\n",
              "      <td>NaN</td>\n",
              "      <td>1</td>\n",
              "      <td>4.0</td>\n",
              "      <td>57.0</td>\n",
              "      <td>0.0</td>\n",
              "      <td>...</td>\n",
              "      <td>0.006153</td>\n",
              "      <td>0.003076</td>\n",
              "      <td>0.004692</td>\n",
              "      <td>0.004922</td>\n",
              "      <td>0.000000</td>\n",
              "      <td>0.0</td>\n",
              "      <td>0.0</td>\n",
              "      <td>0.0</td>\n",
              "      <td>0.0</td>\n",
              "      <td>1.0</td>\n",
              "    </tr>\n",
              "    <tr>\n",
              "      <th>9395</th>\n",
              "      <td>96</td>\n",
              "      <td>973</td>\n",
              "      <td>32242</td>\n",
              "      <td>18</td>\n",
              "      <td>15</td>\n",
              "      <td>NaN</td>\n",
              "      <td>1</td>\n",
              "      <td>3.0</td>\n",
              "      <td>53.0</td>\n",
              "      <td>0.0</td>\n",
              "      <td>...</td>\n",
              "      <td>0.000000</td>\n",
              "      <td>0.007322</td>\n",
              "      <td>0.001611</td>\n",
              "      <td>0.115197</td>\n",
              "      <td>0.000000</td>\n",
              "      <td>0.0</td>\n",
              "      <td>0.0</td>\n",
              "      <td>0.0</td>\n",
              "      <td>0.0</td>\n",
              "      <td>1.0</td>\n",
              "    </tr>\n",
              "    <tr>\n",
              "      <th>9396</th>\n",
              "      <td>96</td>\n",
              "      <td>973</td>\n",
              "      <td>32248</td>\n",
              "      <td>9</td>\n",
              "      <td>13</td>\n",
              "      <td>NaN</td>\n",
              "      <td>1</td>\n",
              "      <td>5.0</td>\n",
              "      <td>45.0</td>\n",
              "      <td>0.0</td>\n",
              "      <td>...</td>\n",
              "      <td>0.000000</td>\n",
              "      <td>0.006577</td>\n",
              "      <td>0.005098</td>\n",
              "      <td>0.030914</td>\n",
              "      <td>0.004440</td>\n",
              "      <td>0.0</td>\n",
              "      <td>0.0</td>\n",
              "      <td>0.0</td>\n",
              "      <td>0.0</td>\n",
              "      <td>1.0</td>\n",
              "    </tr>\n",
              "    <tr>\n",
              "      <th>9397</th>\n",
              "      <td>96</td>\n",
              "      <td>973</td>\n",
              "      <td>32248</td>\n",
              "      <td>9</td>\n",
              "      <td>14</td>\n",
              "      <td>NaN</td>\n",
              "      <td>1</td>\n",
              "      <td>4.0</td>\n",
              "      <td>36.0</td>\n",
              "      <td>0.0</td>\n",
              "      <td>...</td>\n",
              "      <td>0.000000</td>\n",
              "      <td>0.005244</td>\n",
              "      <td>0.007342</td>\n",
              "      <td>0.013635</td>\n",
              "      <td>0.005874</td>\n",
              "      <td>0.0</td>\n",
              "      <td>0.0</td>\n",
              "      <td>0.0</td>\n",
              "      <td>0.0</td>\n",
              "      <td>1.0</td>\n",
              "    </tr>\n",
              "    <tr>\n",
              "      <th>9398</th>\n",
              "      <td>96</td>\n",
              "      <td>973</td>\n",
              "      <td>32248</td>\n",
              "      <td>9</td>\n",
              "      <td>19</td>\n",
              "      <td>NaN</td>\n",
              "      <td>1</td>\n",
              "      <td>4.0</td>\n",
              "      <td>57.0</td>\n",
              "      <td>0.0</td>\n",
              "      <td>...</td>\n",
              "      <td>0.011156</td>\n",
              "      <td>0.049087</td>\n",
              "      <td>0.007099</td>\n",
              "      <td>0.005477</td>\n",
              "      <td>0.000000</td>\n",
              "      <td>0.0</td>\n",
              "      <td>0.0</td>\n",
              "      <td>0.0</td>\n",
              "      <td>0.0</td>\n",
              "      <td>1.0</td>\n",
              "    </tr>\n",
              "  </tbody>\n",
              "</table>\n",
              "<p>9399 rows × 65 columns</p>\n",
              "</div>\n",
              "    <div class=\"colab-df-buttons\">\n",
              "\n",
              "  <div class=\"colab-df-container\">\n",
              "    <button class=\"colab-df-convert\" onclick=\"convertToInteractive('df-9c345acd-1d87-4fd1-8e3d-9efabc5ceaa7')\"\n",
              "            title=\"Convert this dataframe to an interactive table.\"\n",
              "            style=\"display:none;\">\n",
              "\n",
              "  <svg xmlns=\"http://www.w3.org/2000/svg\" height=\"24px\" viewBox=\"0 -960 960 960\">\n",
              "    <path d=\"M120-120v-720h720v720H120Zm60-500h600v-160H180v160Zm220 220h160v-160H400v160Zm0 220h160v-160H400v160ZM180-400h160v-160H180v160Zm440 0h160v-160H620v160ZM180-180h160v-160H180v160Zm440 0h160v-160H620v160Z\"/>\n",
              "  </svg>\n",
              "    </button>\n",
              "\n",
              "  <style>\n",
              "    .colab-df-container {\n",
              "      display:flex;\n",
              "      gap: 12px;\n",
              "    }\n",
              "\n",
              "    .colab-df-convert {\n",
              "      background-color: #E8F0FE;\n",
              "      border: none;\n",
              "      border-radius: 50%;\n",
              "      cursor: pointer;\n",
              "      display: none;\n",
              "      fill: #1967D2;\n",
              "      height: 32px;\n",
              "      padding: 0 0 0 0;\n",
              "      width: 32px;\n",
              "    }\n",
              "\n",
              "    .colab-df-convert:hover {\n",
              "      background-color: #E2EBFA;\n",
              "      box-shadow: 0px 1px 2px rgba(60, 64, 67, 0.3), 0px 1px 3px 1px rgba(60, 64, 67, 0.15);\n",
              "      fill: #174EA6;\n",
              "    }\n",
              "\n",
              "    .colab-df-buttons div {\n",
              "      margin-bottom: 4px;\n",
              "    }\n",
              "\n",
              "    [theme=dark] .colab-df-convert {\n",
              "      background-color: #3B4455;\n",
              "      fill: #D2E3FC;\n",
              "    }\n",
              "\n",
              "    [theme=dark] .colab-df-convert:hover {\n",
              "      background-color: #434B5C;\n",
              "      box-shadow: 0px 1px 3px 1px rgba(0, 0, 0, 0.15);\n",
              "      filter: drop-shadow(0px 1px 2px rgba(0, 0, 0, 0.3));\n",
              "      fill: #FFFFFF;\n",
              "    }\n",
              "  </style>\n",
              "\n",
              "    <script>\n",
              "      const buttonEl =\n",
              "        document.querySelector('#df-9c345acd-1d87-4fd1-8e3d-9efabc5ceaa7 button.colab-df-convert');\n",
              "      buttonEl.style.display =\n",
              "        google.colab.kernel.accessAllowed ? 'block' : 'none';\n",
              "\n",
              "      async function convertToInteractive(key) {\n",
              "        const element = document.querySelector('#df-9c345acd-1d87-4fd1-8e3d-9efabc5ceaa7');\n",
              "        const dataTable =\n",
              "          await google.colab.kernel.invokeFunction('convertToInteractive',\n",
              "                                                    [key], {});\n",
              "        if (!dataTable) return;\n",
              "\n",
              "        const docLinkHtml = 'Like what you see? Visit the ' +\n",
              "          '<a target=\"_blank\" href=https://colab.research.google.com/notebooks/data_table.ipynb>data table notebook</a>'\n",
              "          + ' to learn more about interactive tables.';\n",
              "        element.innerHTML = '';\n",
              "        dataTable['output_type'] = 'display_data';\n",
              "        await google.colab.output.renderOutput(dataTable, element);\n",
              "        const docLink = document.createElement('div');\n",
              "        docLink.innerHTML = docLinkHtml;\n",
              "        element.appendChild(docLink);\n",
              "      }\n",
              "    </script>\n",
              "  </div>\n",
              "\n",
              "\n",
              "    <div id=\"df-136decd6-b4bd-4063-bb25-1a05a7e6b6db\">\n",
              "      <button class=\"colab-df-quickchart\" onclick=\"quickchart('df-136decd6-b4bd-4063-bb25-1a05a7e6b6db')\"\n",
              "                title=\"Suggest charts\"\n",
              "                style=\"display:none;\">\n",
              "\n",
              "<svg xmlns=\"http://www.w3.org/2000/svg\" height=\"24px\"viewBox=\"0 0 24 24\"\n",
              "     width=\"24px\">\n",
              "    <g>\n",
              "        <path d=\"M19 3H5c-1.1 0-2 .9-2 2v14c0 1.1.9 2 2 2h14c1.1 0 2-.9 2-2V5c0-1.1-.9-2-2-2zM9 17H7v-7h2v7zm4 0h-2V7h2v10zm4 0h-2v-4h2v4z\"/>\n",
              "    </g>\n",
              "</svg>\n",
              "      </button>\n",
              "\n",
              "<style>\n",
              "  .colab-df-quickchart {\n",
              "      --bg-color: #E8F0FE;\n",
              "      --fill-color: #1967D2;\n",
              "      --hover-bg-color: #E2EBFA;\n",
              "      --hover-fill-color: #174EA6;\n",
              "      --disabled-fill-color: #AAA;\n",
              "      --disabled-bg-color: #DDD;\n",
              "  }\n",
              "\n",
              "  [theme=dark] .colab-df-quickchart {\n",
              "      --bg-color: #3B4455;\n",
              "      --fill-color: #D2E3FC;\n",
              "      --hover-bg-color: #434B5C;\n",
              "      --hover-fill-color: #FFFFFF;\n",
              "      --disabled-bg-color: #3B4455;\n",
              "      --disabled-fill-color: #666;\n",
              "  }\n",
              "\n",
              "  .colab-df-quickchart {\n",
              "    background-color: var(--bg-color);\n",
              "    border: none;\n",
              "    border-radius: 50%;\n",
              "    cursor: pointer;\n",
              "    display: none;\n",
              "    fill: var(--fill-color);\n",
              "    height: 32px;\n",
              "    padding: 0;\n",
              "    width: 32px;\n",
              "  }\n",
              "\n",
              "  .colab-df-quickchart:hover {\n",
              "    background-color: var(--hover-bg-color);\n",
              "    box-shadow: 0 1px 2px rgba(60, 64, 67, 0.3), 0 1px 3px 1px rgba(60, 64, 67, 0.15);\n",
              "    fill: var(--button-hover-fill-color);\n",
              "  }\n",
              "\n",
              "  .colab-df-quickchart-complete:disabled,\n",
              "  .colab-df-quickchart-complete:disabled:hover {\n",
              "    background-color: var(--disabled-bg-color);\n",
              "    fill: var(--disabled-fill-color);\n",
              "    box-shadow: none;\n",
              "  }\n",
              "\n",
              "  .colab-df-spinner {\n",
              "    border: 2px solid var(--fill-color);\n",
              "    border-color: transparent;\n",
              "    border-bottom-color: var(--fill-color);\n",
              "    animation:\n",
              "      spin 1s steps(1) infinite;\n",
              "  }\n",
              "\n",
              "  @keyframes spin {\n",
              "    0% {\n",
              "      border-color: transparent;\n",
              "      border-bottom-color: var(--fill-color);\n",
              "      border-left-color: var(--fill-color);\n",
              "    }\n",
              "    20% {\n",
              "      border-color: transparent;\n",
              "      border-left-color: var(--fill-color);\n",
              "      border-top-color: var(--fill-color);\n",
              "    }\n",
              "    30% {\n",
              "      border-color: transparent;\n",
              "      border-left-color: var(--fill-color);\n",
              "      border-top-color: var(--fill-color);\n",
              "      border-right-color: var(--fill-color);\n",
              "    }\n",
              "    40% {\n",
              "      border-color: transparent;\n",
              "      border-right-color: var(--fill-color);\n",
              "      border-top-color: var(--fill-color);\n",
              "    }\n",
              "    60% {\n",
              "      border-color: transparent;\n",
              "      border-right-color: var(--fill-color);\n",
              "    }\n",
              "    80% {\n",
              "      border-color: transparent;\n",
              "      border-right-color: var(--fill-color);\n",
              "      border-bottom-color: var(--fill-color);\n",
              "    }\n",
              "    90% {\n",
              "      border-color: transparent;\n",
              "      border-bottom-color: var(--fill-color);\n",
              "    }\n",
              "  }\n",
              "</style>\n",
              "\n",
              "      <script>\n",
              "        async function quickchart(key) {\n",
              "          const quickchartButtonEl =\n",
              "            document.querySelector('#' + key + ' button');\n",
              "          quickchartButtonEl.disabled = true;  // To prevent multiple clicks.\n",
              "          quickchartButtonEl.classList.add('colab-df-spinner');\n",
              "          try {\n",
              "            const charts = await google.colab.kernel.invokeFunction(\n",
              "                'suggestCharts', [key], {});\n",
              "          } catch (error) {\n",
              "            console.error('Error during call to suggestCharts:', error);\n",
              "          }\n",
              "          quickchartButtonEl.classList.remove('colab-df-spinner');\n",
              "          quickchartButtonEl.classList.add('colab-df-quickchart-complete');\n",
              "        }\n",
              "        (() => {\n",
              "          let quickchartButtonEl =\n",
              "            document.querySelector('#df-136decd6-b4bd-4063-bb25-1a05a7e6b6db button');\n",
              "          quickchartButtonEl.style.display =\n",
              "            google.colab.kernel.accessAllowed ? 'block' : 'none';\n",
              "        })();\n",
              "      </script>\n",
              "    </div>\n",
              "\n",
              "  <div id=\"id_eb20772d-8ff0-4c44-8923-a3558557b95d\">\n",
              "    <style>\n",
              "      .colab-df-generate {\n",
              "        background-color: #E8F0FE;\n",
              "        border: none;\n",
              "        border-radius: 50%;\n",
              "        cursor: pointer;\n",
              "        display: none;\n",
              "        fill: #1967D2;\n",
              "        height: 32px;\n",
              "        padding: 0 0 0 0;\n",
              "        width: 32px;\n",
              "      }\n",
              "\n",
              "      .colab-df-generate:hover {\n",
              "        background-color: #E2EBFA;\n",
              "        box-shadow: 0px 1px 2px rgba(60, 64, 67, 0.3), 0px 1px 3px 1px rgba(60, 64, 67, 0.15);\n",
              "        fill: #174EA6;\n",
              "      }\n",
              "\n",
              "      [theme=dark] .colab-df-generate {\n",
              "        background-color: #3B4455;\n",
              "        fill: #D2E3FC;\n",
              "      }\n",
              "\n",
              "      [theme=dark] .colab-df-generate:hover {\n",
              "        background-color: #434B5C;\n",
              "        box-shadow: 0px 1px 3px 1px rgba(0, 0, 0, 0.15);\n",
              "        filter: drop-shadow(0px 1px 2px rgba(0, 0, 0, 0.3));\n",
              "        fill: #FFFFFF;\n",
              "      }\n",
              "    </style>\n",
              "    <button class=\"colab-df-generate\" onclick=\"generateWithVariable('df')\"\n",
              "            title=\"Generate code using this dataframe.\"\n",
              "            style=\"display:none;\">\n",
              "\n",
              "  <svg xmlns=\"http://www.w3.org/2000/svg\" height=\"24px\"viewBox=\"0 0 24 24\"\n",
              "       width=\"24px\">\n",
              "    <path d=\"M7,19H8.4L18.45,9,17,7.55,7,17.6ZM5,21V16.75L18.45,3.32a2,2,0,0,1,2.83,0l1.4,1.43a1.91,1.91,0,0,1,.58,1.4,1.91,1.91,0,0,1-.58,1.4L9.25,21ZM18.45,9,17,7.55Zm-12,3A5.31,5.31,0,0,0,4.9,8.1,5.31,5.31,0,0,0,1,6.5,5.31,5.31,0,0,0,4.9,4.9,5.31,5.31,0,0,0,6.5,1,5.31,5.31,0,0,0,8.1,4.9,5.31,5.31,0,0,0,12,6.5,5.46,5.46,0,0,0,6.5,12Z\"/>\n",
              "  </svg>\n",
              "    </button>\n",
              "    <script>\n",
              "      (() => {\n",
              "      const buttonEl =\n",
              "        document.querySelector('#id_eb20772d-8ff0-4c44-8923-a3558557b95d button.colab-df-generate');\n",
              "      buttonEl.style.display =\n",
              "        google.colab.kernel.accessAllowed ? 'block' : 'none';\n",
              "\n",
              "      buttonEl.onclick = () => {\n",
              "        google.colab.notebook.generateWithVariable('df');\n",
              "      }\n",
              "      })();\n",
              "    </script>\n",
              "  </div>\n",
              "\n",
              "    </div>\n",
              "  </div>\n"
            ],
            "application/vnd.google.colaboratory.intrinsic+json": {
              "type": "dataframe",
              "variable_name": "df"
            }
          },
          "metadata": {},
          "execution_count": 87
        }
      ]
    },
    {
      "cell_type": "code",
      "source": [
        "X = sm.add_constant(df['remittances']) # Thêm cột intercept (hằng số) vào biến độc lập\n",
        "model = sm.OLS(df['per_expenditure'], X).fit()\n",
        "# Tính phần dư\n",
        "df['residuals'] = model.resid\n",
        "lowess_result = lowess(df['residuals'], df['remittances'])\n",
        "plt.figure(figsize=(10,6))\n",
        "plt.scatter(df['remittances'], df['residuals'],color=palette[5], alpha=0.5, label='Residuals')\n",
        "plt.plot(lowess_result[:,0], lowess_result[:,1], color=palette[1], linewidth=2, label='LOWESS')\n",
        "plt.axhline(y=0, color='black', linestyle='--')\n",
        "plt.xlabel(\"Remittances\")\n",
        "plt.ylabel(\"Residuals from linear regression\")\n",
        "plt.title(\"Residual Plot with LOWESS smoother\")\n",
        "plt.legend()\n",
        "plt.grid(True)\n",
        "plt.show()"
      ],
      "metadata": {
        "id": "Js8QYN093bpE",
        "colab": {
          "base_uri": "https://localhost:8080/",
          "height": 523
        },
        "outputId": "3bbb5e84-07f6-4b49-c537-5eecab4d0b7f"
      },
      "execution_count": 88,
      "outputs": [
        {
          "output_type": "display_data",
          "data": {
            "text/plain": [
              "<Figure size 1000x600 with 1 Axes>"
            ],
            "image/png": "[encoded data removed]"
          },
          "metadata": {}
        }
      ]
    },
    {
      "cell_type": "markdown",
      "source": [
        "#Kiểm định Breusch–Pagan"
      ],
      "metadata": {
        "id": "ZMuMkijTAxLn"
      }
    },
    {
      "cell_type": "markdown",
      "source": [
        "## Bước 1: Ước lượng mô hình hồi quy OLS như đã thực hiện ở bước trên\n",
        "```X = sm.add_constant(df['remittances'])```\n",
        "\n",
        "```model = sm.OLS(df['per_expenditure'], X).fit()```"
      ],
      "metadata": {
        "id": "ezOSrVgrA6MM"
      }
    },
    {
      "cell_type": "markdown",
      "source": [
        "## Bước 2: Lấy phần dư và bình phương phần dư\n",
        "### Tính phần dư\n",
        "```df['residuals'] = model.resid```"
      ],
      "metadata": {
        "id": "dHF9EfdcCWgF"
      }
    },
    {
      "cell_type": "code",
      "source": [
        "df['squared_residuals'] = df['residuals'] ** 2"
      ],
      "metadata": {
        "id": "U0slHTK5A5Yu"
      },
      "execution_count": 89,
      "outputs": []
    },
    {
      "cell_type": "markdown",
      "source": [
        "### Bước 3: Hồi quy phần dư bình phương với biến độc lập ban đầu"
      ],
      "metadata": {
        "id": "RZLK5AaBCRHq"
      }
    },
    {
      "cell_type": "code",
      "source": [
        "X_rsq = sm.add_constant(df['remittances'])\n",
        "model_rsq = sm.OLS(df['squared_residuals'], X_rsq).fit()\n",
        "print(model_rsq.summary())"
      ],
      "metadata": {
        "colab": {
          "base_uri": "https://localhost:8080/"
        },
        "id": "sNmyVRSeCQ7Q",
        "outputId": "da009843-a623-4b76-c001-9a8e6fc49be1"
      },
      "execution_count": 90,
      "outputs": [
        {
          "output_type": "stream",
          "name": "stdout",
          "text": [
            "                            OLS Regression Results                            \n",
            "==============================================================================\n",
            "Dep. Variable:      squared_residuals   R-squared:                       0.001\n",
            "Model:                            OLS   Adj. R-squared:                  0.001\n",
            "Method:                 Least Squares   F-statistic:                     11.37\n",
            "Date:                Mon, 02 Jun 2025   Prob (F-statistic):           0.000748\n",
            "Time:                        11:03:40   Log-Likelihood:            -2.2140e+05\n",
            "No. Observations:                9399   AIC:                         4.428e+05\n",
            "Df Residuals:                    9397   BIC:                         4.428e+05\n",
            "Df Model:                           1                                         \n",
            "Covariance Type:            nonrobust                                         \n",
            "===============================================================================\n",
            "                  coef    std err          t      P>|t|      [0.025      0.975]\n",
            "-------------------------------------------------------------------------------\n",
            "const        4.623e+08   4.48e+07     10.314      0.000    3.74e+08     5.5e+08\n",
            "remittances  5882.1820   1744.131      3.373      0.001    2463.309    9301.055\n",
            "==============================================================================\n",
            "Omnibus:                    22169.834   Durbin-Watson:                   1.963\n",
            "Prob(Omnibus):                  0.000   Jarque-Bera (JB):        214886940.514\n",
            "Skew:                          23.723   Prob(JB):                         0.00\n",
            "Kurtosis:                     742.226   Cond. No.                     2.72e+04\n",
            "==============================================================================\n",
            "\n",
            "Notes:\n",
            "[1] Standard Errors assume that the covariance matrix of the errors is correctly specified.\n",
            "[2] The condition number is large, 2.72e+04. This might indicate that there are\n",
            "strong multicollinearity or other numerical problems.\n"
          ]
        }
      ]
    },
    {
      "cell_type": "code",
      "source": [
        "n = len(df)\n",
        "R2 = model_rsq.rsquared\n",
        "LM_stat = n * R2\n",
        "\n",
        "from scipy.stats import chi2\n",
        "# Kiểm định với bậc tự do là số biến độc lập (không tính hệ số chặn)\n",
        "p_value = 1 - chi2.cdf(LM_stat, df=1)\n",
        "\n",
        "print(f\"LM statistic: {LM_stat}\")\n",
        "print(f\"P-value: {p_value}\")"
      ],
      "metadata": {
        "colab": {
          "base_uri": "https://localhost:8080/"
        },
        "id": "IPfkUTY8CQ30",
        "outputId": "4b98d472-308e-448d-c241-0e435b609007"
      },
      "execution_count": 91,
      "outputs": [
        {
          "output_type": "stream",
          "name": "stdout",
          "text": [
            "LM statistic: 11.362817105178038\n",
            "P-value: 0.0007492908832411604\n"
          ]
        }
      ]
    },
    {
      "cell_type": "markdown",
      "source": [
        "### Kiểm định Breusch–Pagan một cách trực tiếp bằng lệnh có sẵn trong thư viện statsmodels"
      ],
      "metadata": {
        "id": "-OKoPeiLH6PP"
      }
    },
    {
      "cell_type": "code",
      "source": [
        "from statsmodels.stats.diagnostic import het_breuschpagan\n",
        "bp_test = het_breuschpagan(df['residuals'], X)\n",
        "labels = ['LM Statistic', 'LM p-value', 'F Statistic', 'F p-value']\n",
        "for name, val in zip(labels, bp_test):\n",
        "    print(f\"{name}: {val}\")"
      ],
      "metadata": {
        "colab": {
          "base_uri": "https://localhost:8080/"
        },
        "id": "lo6rwCx8H5BE",
        "outputId": "3ec0e2e1-cd69-45dd-ac28-3dc895cf9360"
      },
      "execution_count": 92,
      "outputs": [
        {
          "output_type": "stream",
          "name": "stdout",
          "text": [
            "LM Statistic: 11.362817105178038\n",
            "LM p-value: 0.0007492908832411111\n",
            "F Statistic: 11.37414988000535\n",
            "F p-value: 0.0007477393557890135\n"
          ]
        }
      ]
    },
    {
      "cell_type": "markdown",
      "source": [
        "##### Hoặc nếu không tạo ra biến ```df['residuals']``` và ```X```, chúng ta có thể truyền vào phần dư và ma trận biến độc lập như sau:\n",
        "```bp_test = het_breuschpagan(model.resid, model.model.exog)```\n"
      ],
      "metadata": {
        "id": "MvF9nli1KfTV"
      }
    },
    {
      "cell_type": "markdown",
      "source": [
        "#Kiểm định White"
      ],
      "metadata": {
        "id": "bhxzjNbyMOr2"
      }
    },
    {
      "cell_type": "code",
      "source": [
        "from statsmodels.stats.diagnostic import het_white\n",
        "white_test = het_white(model.resid, model.model.exog)\n",
        "labels = ['LM Statistic', 'LM p-value', 'F Statistic', 'F p-value']\n",
        "for name, val in zip(labels, white_test):\n",
        "    print(f\"{name}: {val}\")"
      ],
      "metadata": {
        "colab": {
          "base_uri": "https://localhost:8080/"
        },
        "id": "O_iARsR2AwMY",
        "outputId": "cf1887a5-24f0-48fb-d6af-03166779536e"
      },
      "execution_count": 93,
      "outputs": [
        {
          "output_type": "stream",
          "name": "stdout",
          "text": [
            "LM Statistic: 14.168901341055065\n",
            "LM p-value: 0.0008380350181996505\n",
            "F Statistic: 7.092881885726272\n",
            "F p-value: 0.0008354559185167248\n"
          ]
        }
      ]
    },
    {
      "cell_type": "markdown",
      "source": [
        "#Kiểm định White có điều chỉnh"
      ],
      "metadata": {
        "id": "E6DtGvPYPALP"
      }
    },
    {
      "cell_type": "markdown",
      "source": [
        "## Bước 1: Hồi quy OLS gốc và lấy phần dư và bình phương phần dư\n",
        "\n",
        "\n",
        "```\n",
        "X = sm.add_constant(df['remittances'])\n",
        "y = df['per_expenditure']\n",
        "model = sm.OLS(y, X).fit()\n",
        "\n",
        "df['residuals'] = model.resid\n",
        "df['squared_residuals'] = df['residuals'] ** 2\n",
        "```\n",
        "\n"
      ],
      "metadata": {
        "id": "8WZvTY6LPJf4"
      }
    },
    {
      "cell_type": "markdown",
      "source": [
        "##Bước 2: Tạo yhat và yhat^2\n"
      ],
      "metadata": {
        "id": "ghGaX8vCPZsS"
      }
    },
    {
      "cell_type": "code",
      "source": [
        "df['yhat'] = model.fittedvalues\n",
        "df['yhat2'] = df['yhat'] ** 2"
      ],
      "metadata": {
        "id": "xkSQrkKlPIpw"
      },
      "execution_count": 94,
      "outputs": []
    },
    {
      "cell_type": "markdown",
      "source": [
        "##Bước 3: Hồi quy rsq ~ yhat + yhat^2"
      ],
      "metadata": {
        "id": "9sLGAh4uP5Y7"
      }
    },
    {
      "cell_type": "code",
      "source": [
        "X_white_adj = sm.add_constant(df[['yhat', 'yhat2']])\n",
        "model_adj = sm.OLS(df['squared_residuals'] , X_white_adj).fit()\n",
        "print(model_adj.summary())"
      ],
      "metadata": {
        "id": "XQlcWE07Buik",
        "colab": {
          "base_uri": "https://localhost:8080/"
        },
        "outputId": "5811200b-8342-4720-aeba-fa0ca3fab45f"
      },
      "execution_count": 95,
      "outputs": [
        {
          "output_type": "stream",
          "name": "stdout",
          "text": [
            "                            OLS Regression Results                            \n",
            "==============================================================================\n",
            "Dep. Variable:      squared_residuals   R-squared:                       0.002\n",
            "Model:                            OLS   Adj. R-squared:                  0.001\n",
            "Method:                 Least Squares   F-statistic:                     7.093\n",
            "Date:                Mon, 02 Jun 2025   Prob (F-statistic):           0.000835\n",
            "Time:                        11:03:40   Log-Likelihood:            -2.2139e+05\n",
            "No. Observations:                9399   AIC:                         4.428e+05\n",
            "Df Residuals:                    9396   BIC:                         4.428e+05\n",
            "Df Model:                           2                                         \n",
            "Covariance Type:            nonrobust                                         \n",
            "==============================================================================\n",
            "                 coef    std err          t      P>|t|      [0.025      0.975]\n",
            "------------------------------------------------------------------------------\n",
            "const      -2.061e+09   8.84e+08     -2.332      0.020   -3.79e+09   -3.29e+08\n",
            "yhat        1.192e+05   4.58e+04      2.604      0.009    2.95e+04    2.09e+05\n",
            "yhat2         -0.8380      0.500     -1.676      0.094      -1.818       0.142\n",
            "==============================================================================\n",
            "Omnibus:                    22167.782   Durbin-Watson:                   1.963\n",
            "Prob(Omnibus):                  0.000   Jarque-Bera (JB):        214893217.165\n",
            "Skew:                          23.717   Prob(JB):                         0.00\n",
            "Kurtosis:                     742.237   Cond. No.                     1.61e+10\n",
            "==============================================================================\n",
            "\n",
            "Notes:\n",
            "[1] Standard Errors assume that the covariance matrix of the errors is correctly specified.\n",
            "[2] The condition number is large, 1.61e+10. This might indicate that there are\n",
            "strong multicollinearity or other numerical problems.\n"
          ]
        }
      ]
    },
    {
      "cell_type": "markdown",
      "source": [
        "### Tính thống kê kiểm định White có điều chỉnh: LM = n * R^2"
      ],
      "metadata": {
        "id": "4qF8zkDWQVCG"
      }
    },
    {
      "cell_type": "code",
      "source": [
        "n = len(df)\n",
        "LM_white_adj = n * model_adj.rsquared\n",
        "print(f\"LM White (adjusted) statistic: {LM_white_adj}\")"
      ],
      "metadata": {
        "colab": {
          "base_uri": "https://localhost:8080/"
        },
        "id": "UEiQFVNMQZ7V",
        "outputId": "57c8560c-847a-45a6-d5bd-686adb0eaae4"
      },
      "execution_count": 96,
      "outputs": [
        {
          "output_type": "stream",
          "name": "stdout",
          "text": [
            "LM White (adjusted) statistic: 14.168901341051935\n"
          ]
        }
      ]
    },
    {
      "cell_type": "markdown",
      "source": [
        "#Sử dụng bình phương nhỏ nhất có trọng số (Weighted Least Squares: WLS)"
      ],
      "metadata": {
        "id": "oCPdOO7ZRZWa"
      }
    },
    {
      "cell_type": "markdown",
      "source": [
        "##1. Biến đổi mô hình theo cách chuẩn hoá sao cho giả định phương sai không đổi được thỏa mãn.\n",
        "<p>Giả định rằng phương sai của sai số tỉ lệ với bình phương của biến <code>remittances</code>, ta có:</p>\n",
        "\n",
        "<p style=\"text-align: center;\">\n",
        "$$\n",
        "\\text{Var}(\\varepsilon_i) \\propto \\text{remittances}_i^2\n",
        "$$\n",
        "</p>\n",
        "\n",
        "<p>\n",
        "Do đó, ta nhân cả hai vế của phương trình hồi quy với:\n",
        "</p>\n",
        "\n",
        "<p style=\"text-align: center;\">\n",
        "$$\n",
        "\\frac{1}{\\text{remittances}_i}\n",
        "$$\n",
        "</p>\n",
        "\n",
        "<p>\n",
        "Điều này giúp đưa mô hình về dạng có phương sai đồng nhất, và có thể ước lượng lại bằng OLS.\n",
        "</p>\n",
        "\n",
        "\n"
      ],
      "metadata": {
        "id": "PPi5BN9SRBLj"
      }
    },
    {
      "cell_type": "markdown",
      "source": [
        "### Bước 1: Tạo các biến chuẩn hoá theo trọng số $$\\frac{1}{\\text{remittances}}$$\n"
      ],
      "metadata": {
        "id": "-LCCNizGS0bE"
      }
    },
    {
      "cell_type": "code",
      "source": [
        "# Tạo bản sao dữ liệu\n",
        "df1 = df.copy()\n",
        "df1 = df1[df1['remittances'] != 0]\n",
        "# Trọng số = 1 / remittances\n",
        "df1['weight'] = 1 / df1['remittances']\n",
        "\n",
        "# Nhân các biến với weight\n",
        "df1['per_expenditure_w'] = df1['per_expenditure'] * df1['weight']\n",
        "df1['remittances_w'] = df1['remittances'] * df1['weight']\n",
        "df1['constant_w'] = df1['weight']  # giống như gen constant_w = 1/remittances\n"
      ],
      "metadata": {
        "id": "zqkZk1BPSwje"
      },
      "execution_count": 97,
      "outputs": []
    },
    {
      "cell_type": "markdown",
      "source": [
        "### Bước 2: Hồi quy OLS không chặn với các biến đã chuẩn hoá (sử dụng df1)"
      ],
      "metadata": {
        "id": "I_o1lhb5HHJ4"
      }
    },
    {
      "cell_type": "code",
      "source": [
        "# Tạo X và y\n",
        "X_manual = df1[['remittances_w', 'constant_w']]\n",
        "y_manual = df1['per_expenditure_w']\n",
        "\n",
        "# Hồi quy OLS không chặn\n",
        "model_manual = sm.OLS(y_manual, X_manual).fit()\n",
        "\n",
        "# Kết quả\n",
        "print(model_manual.summary())"
      ],
      "metadata": {
        "colab": {
          "base_uri": "https://localhost:8080/"
        },
        "id": "cJlLivrTCHqy",
        "outputId": "2db64769-8fd3-484a-9a33-5e91ac990e84"
      },
      "execution_count": 98,
      "outputs": [
        {
          "output_type": "stream",
          "name": "stdout",
          "text": [
            "                            OLS Regression Results                            \n",
            "==============================================================================\n",
            "Dep. Variable:      per_expenditure_w   R-squared:                       0.534\n",
            "Model:                            OLS   Adj. R-squared:                  0.534\n",
            "Method:                 Least Squares   F-statistic:                     9120.\n",
            "Date:                Mon, 02 Jun 2025   Prob (F-statistic):               0.00\n",
            "Time:                        11:03:40   Log-Likelihood:                -47767.\n",
            "No. Observations:                7953   AIC:                         9.554e+04\n",
            "Df Residuals:                    7951   BIC:                         9.555e+04\n",
            "Df Model:                           1                                         \n",
            "Covariance Type:            nonrobust                                         \n",
            "=================================================================================\n",
            "                    coef    std err          t      P>|t|      [0.025      0.975]\n",
            "---------------------------------------------------------------------------------\n",
            "remittances_w    -2.1016      1.188     -1.769      0.077      -4.431       0.228\n",
            "constant_w     2.484e+04    260.110     95.497      0.000    2.43e+04    2.53e+04\n",
            "==============================================================================\n",
            "Omnibus:                    17336.833   Durbin-Watson:                   1.580\n",
            "Prob(Omnibus):                  0.000   Jarque-Bera (JB):        164261972.299\n",
            "Skew:                          19.387   Prob(JB):                         0.00\n",
            "Kurtosis:                     705.990   Cond. No.                         236.\n",
            "==============================================================================\n",
            "\n",
            "Notes:\n",
            "[1] Standard Errors assume that the covariance matrix of the errors is correctly specified.\n"
          ]
        }
      ]
    },
    {
      "cell_type": "markdown",
      "source": [
        "###Phiên bản chuẩn hơn dùng statsmodels.WLS (sử dụng df2)"
      ],
      "metadata": {
        "id": "LQHFpMo6cG6G"
      }
    },
    {
      "cell_type": "code",
      "source": [
        "df2 = df.copy()\n",
        "# Xoá các dòng bị lỗi\n",
        "df2 = df2.replace([np.inf, -np.inf], np.nan)\n",
        "# Loại bỏ remittances = 0\n",
        "df2 = df2[df2['remittances'] != 0]\n",
        "w= 1 / df2['remittances']  # đây là weight như STATA dùng\n",
        "X = sm.add_constant(df2['remittances'])  # có constant\n",
        "y = df2['per_expenditure']\n",
        "weights = w**2 # phải bình phương để đúng với WLS\n",
        "model_wls = sm.WLS(y, X, weights=weights ).fit()\n",
        "print(model_wls.summary())"
      ],
      "metadata": {
        "colab": {
          "base_uri": "https://localhost:8080/"
        },
        "id": "4GzUp0nMHnCn",
        "outputId": "387d86dc-739a-4151-8673-9929c764f930"
      },
      "execution_count": 99,
      "outputs": [
        {
          "output_type": "stream",
          "name": "stdout",
          "text": [
            "                            WLS Regression Results                            \n",
            "==============================================================================\n",
            "Dep. Variable:        per_expenditure   R-squared:                       0.000\n",
            "Model:                            WLS   Adj. R-squared:                  0.000\n",
            "Method:                 Least Squares   F-statistic:                     3.129\n",
            "Date:                Mon, 02 Jun 2025   Prob (F-statistic):             0.0770\n",
            "Time:                        11:03:40   Log-Likelihood:            -1.1032e+05\n",
            "No. Observations:                7953   AIC:                         2.206e+05\n",
            "Df Residuals:                    7951   BIC:                         2.207e+05\n",
            "Df Model:                           1                                         \n",
            "Covariance Type:            nonrobust                                         \n",
            "===============================================================================\n",
            "                  coef    std err          t      P>|t|      [0.025      0.975]\n",
            "-------------------------------------------------------------------------------\n",
            "const        2.484e+04    260.110     95.497      0.000    2.43e+04    2.53e+04\n",
            "remittances    -2.1016      1.188     -1.769      0.077      -4.431       0.228\n",
            "==============================================================================\n",
            "Omnibus:                    17336.833   Durbin-Watson:                   1.580\n",
            "Prob(Omnibus):                  0.000   Jarque-Bera (JB):        164261972.299\n",
            "Skew:                          19.387   Prob(JB):                         0.00\n",
            "Kurtosis:                     705.990   Cond. No.                         236.\n",
            "==============================================================================\n",
            "\n",
            "Notes:\n",
            "[1] Standard Errors assume that the covariance matrix of the errors is correctly specified.\n"
          ]
        }
      ]
    },
    {
      "cell_type": "markdown",
      "source": [
        "##2. Biến đổi mô hình theo cách chuẩn hoá sao cho giả định phương sai không đổi được thỏa mãn.\n",
        "<p>Giả định rằng phương sai của sai số tỉ lệ với biến <code>remittances</code>, ta có:</p>\n",
        "\n",
        "<p style=\"text-align: center;\">\n",
        "$$\n",
        "\\text{Var}(\\varepsilon_i) \\propto \\text{remittances}_i\n",
        "$$\n",
        "</p>\n",
        "\n",
        "<p>\n",
        "Do đó, ta nhân cả hai vế của phương trình hồi quy với:\n",
        "</p>\n",
        "\n",
        "<p style=\"text-align: center;\">\n",
        "$$\n",
        "\\frac{1}{\\sqrt{\\text{remittances}_i}}\n",
        "$$\n",
        "</p>\n",
        "\n",
        "<p>\n",
        "Điều này giúp đưa mô hình về dạng có phương sai đồng nhất, và có thể ước lượng lại bằng OLS.\n",
        "</p>"
      ],
      "metadata": {
        "id": "nCsJVReZyDCA"
      }
    },
    {
      "cell_type": "markdown",
      "source": [],
      "metadata": {
        "id": "ikFw8i3dDLuq"
      }
    },
    {
      "cell_type": "markdown",
      "source": [
        "### Bước 1: Tạo các biến chuẩn hoá theo trọng số $$\\frac{1}{\\sqrt{\\text{remittances}}}$$\n"
      ],
      "metadata": {
        "id": "63pQuSJZDL_Y"
      }
    },
    {
      "cell_type": "code",
      "source": [
        "# Tạo bản sao dữ liệu\n",
        "df3 = df.copy()\n",
        "df3 = df3[df3['remittances'] != 0]\n",
        "# Trọng số = 1 / remittances\n",
        "df3['weight_sqrt'] = 1 / np.sqrt(df3['remittances'])\n",
        "\n",
        "# Nhân các biến với weight\n",
        "df3['per_expenditure_w_sqrt'] = df3['per_expenditure'] * df3['weight_sqrt']\n",
        "df3['remittances_w_sqrt'] = df3['remittances'] * df3['weight_sqrt']\n",
        "df3['constant_w_sqrt'] = df3['weight_sqrt']"
      ],
      "metadata": {
        "id": "FZFAwUIoDLKL"
      },
      "execution_count": 100,
      "outputs": []
    },
    {
      "cell_type": "markdown",
      "source": [
        "### Bước 2: Hồi quy OLS không chặn với các biến đã chuẩn hoá (sử dụng df3)"
      ],
      "metadata": {
        "id": "hInAgVvGEeMd"
      }
    },
    {
      "cell_type": "code",
      "source": [
        "# Tạo X và y\n",
        "X_manual = df3[['remittances_w_sqrt', 'constant_w_sqrt']]\n",
        "y_manual = df3['per_expenditure_w_sqrt']\n",
        "\n",
        "# Hồi quy OLS không chặn\n",
        "model_manual = sm.OLS(y_manual, X_manual).fit()\n",
        "\n",
        "# Kết quả\n",
        "print(model_manual.summary())\n"
      ],
      "metadata": {
        "id": "KvMsZP_6hxMg",
        "colab": {
          "base_uri": "https://localhost:8080/"
        },
        "outputId": "ce4dc46d-5142-4c17-c930-af0541cc1f85"
      },
      "execution_count": 101,
      "outputs": [
        {
          "output_type": "stream",
          "name": "stdout",
          "text": [
            "                                   OLS Regression Results                                  \n",
            "===========================================================================================\n",
            "Dep. Variable:     per_expenditure_w_sqrt   R-squared (uncentered):                   0.581\n",
            "Model:                                OLS   Adj. R-squared (uncentered):              0.581\n",
            "Method:                     Least Squares   F-statistic:                              5508.\n",
            "Date:                    Mon, 02 Jun 2025   Prob (F-statistic):                        0.00\n",
            "Time:                            11:03:40   Log-Likelihood:                         -64744.\n",
            "No. Observations:                    7953   AIC:                                  1.295e+05\n",
            "Df Residuals:                        7951   BIC:                                  1.295e+05\n",
            "Df Model:                               2                                                  \n",
            "Covariance Type:                nonrobust                                                  \n",
            "======================================================================================\n",
            "                         coef    std err          t      P>|t|      [0.025      0.975]\n",
            "--------------------------------------------------------------------------------------\n",
            "remittances_w_sqrt     0.3445      0.097      3.568      0.000       0.155       0.534\n",
            "constant_w_sqrt     2.341e+04    232.068    100.878      0.000     2.3e+04    2.39e+04\n",
            "==============================================================================\n",
            "Omnibus:                    14341.390   Durbin-Watson:                   1.568\n",
            "Prob(Omnibus):                  0.000   Jarque-Bera (JB):         43314176.006\n",
            "Skew:                          12.751   Prob(JB):                         0.00\n",
            "Kurtosis:                     363.638   Cond. No.                     2.48e+03\n",
            "==============================================================================\n",
            "\n",
            "Notes:\n",
            "[1] R² is computed without centering (uncentered) since the model does not contain a constant.\n",
            "[2] Standard Errors assume that the covariance matrix of the errors is correctly specified.\n",
            "[3] The condition number is large, 2.48e+03. This might indicate that there are\n",
            "strong multicollinearity or other numerical problems.\n"
          ]
        }
      ]
    },
    {
      "cell_type": "markdown",
      "source": [
        "###Phiên bản chuẩn hơn dùng statsmodels.WLS (sử dụng df4)"
      ],
      "metadata": {
        "id": "wa6NIJVEE2X4"
      }
    },
    {
      "cell_type": "code",
      "source": [
        "df4 = df.copy()\n",
        "# Xoá các dòng bị lỗi\n",
        "df4 = df4.replace([np.inf, -np.inf], np.nan)\n",
        "# Loại bỏ remittances = 0\n",
        "df4 = df4[df4['remittances'] != 0]\n",
        "w= 1 / np.sqrt(df4['remittances'])  # đây là weight như STATA dùng\n",
        "X = sm.add_constant(df4['remittances'])  # có constant\n",
        "y = df4['per_expenditure']\n",
        "weights = w**2 # phải bình phương để đúng với WLS\n",
        "model_wls = sm.WLS(y, X, weights=weights ).fit()\n",
        "print(model_wls.summary())"
      ],
      "metadata": {
        "colab": {
          "base_uri": "https://localhost:8080/"
        },
        "id": "5ZkzUMaeExpN",
        "outputId": "7d91e804-5f53-499e-f928-3cdbd1e5957c"
      },
      "execution_count": 102,
      "outputs": [
        {
          "output_type": "stream",
          "name": "stdout",
          "text": [
            "                            WLS Regression Results                            \n",
            "==============================================================================\n",
            "Dep. Variable:        per_expenditure   R-squared:                       0.002\n",
            "Model:                            WLS   Adj. R-squared:                  0.001\n",
            "Method:                 Least Squares   F-statistic:                     12.73\n",
            "Date:                Mon, 02 Jun 2025   Prob (F-statistic):           0.000362\n",
            "Time:                        11:03:40   Log-Likelihood:                -96022.\n",
            "No. Observations:                7953   AIC:                         1.920e+05\n",
            "Df Residuals:                    7951   BIC:                         1.921e+05\n",
            "Df Model:                           1                                         \n",
            "Covariance Type:            nonrobust                                         \n",
            "===============================================================================\n",
            "                  coef    std err          t      P>|t|      [0.025      0.975]\n",
            "-------------------------------------------------------------------------------\n",
            "const        2.341e+04    232.068    100.878      0.000     2.3e+04    2.39e+04\n",
            "remittances     0.3445      0.097      3.568      0.000       0.155       0.534\n",
            "==============================================================================\n",
            "Omnibus:                    14341.390   Durbin-Watson:                   1.568\n",
            "Prob(Omnibus):                  0.000   Jarque-Bera (JB):         43314176.006\n",
            "Skew:                          12.751   Prob(JB):                         0.00\n",
            "Kurtosis:                     363.638   Cond. No.                     2.48e+03\n",
            "==============================================================================\n",
            "\n",
            "Notes:\n",
            "[1] Standard Errors assume that the covariance matrix of the errors is correctly specified.\n",
            "[2] The condition number is large, 2.48e+03. This might indicate that there are\n",
            "strong multicollinearity or other numerical problems.\n"
          ]
        }
      ]
    },
    {
      "cell_type": "markdown",
      "source": [
        "##3. Phương pháp lấy log cho dữ liệu để kiểm soát phương sai"
      ],
      "metadata": {
        "id": "u3eeEHFFGKIc"
      }
    },
    {
      "cell_type": "code",
      "source": [
        "df5=df.copy()\n",
        "df5 = df5[df5['remittances'] > 0]\n",
        "df5 = df5[df5['per_expenditure'] > 0]\n",
        "df5['ln_remittances'] = np.log(df5['remittances'])\n",
        "X = sm.add_constant(df5['ln_remittances'])  # có constant\n",
        "df5['ln_per_expenditure'] = np.log(df5['per_expenditure'])\n",
        "model = sm.OLS(df5['ln_per_expenditure'],X).fit()\n",
        "print(model.summary())"
      ],
      "metadata": {
        "colab": {
          "base_uri": "https://localhost:8080/"
        },
        "id": "zY8wJ7C5GLJA",
        "outputId": "6707a897-6a18-4b5b-8b08-d04f50b627ea"
      },
      "execution_count": 103,
      "outputs": [
        {
          "output_type": "stream",
          "name": "stdout",
          "text": [
            "                            OLS Regression Results                            \n",
            "==============================================================================\n",
            "Dep. Variable:     ln_per_expenditure   R-squared:                       0.057\n",
            "Model:                            OLS   Adj. R-squared:                  0.057\n",
            "Method:                 Least Squares   F-statistic:                     478.7\n",
            "Date:                Mon, 02 Jun 2025   Prob (F-statistic):          4.40e-103\n",
            "Time:                        11:03:40   Log-Likelihood:                -7210.2\n",
            "No. Observations:                7953   AIC:                         1.442e+04\n",
            "Df Residuals:                    7951   BIC:                         1.444e+04\n",
            "Df Model:                           1                                         \n",
            "Covariance Type:            nonrobust                                         \n",
            "==================================================================================\n",
            "                     coef    std err          t      P>|t|      [0.025      0.975]\n",
            "----------------------------------------------------------------------------------\n",
            "const              9.3161      0.032    294.533      0.000       9.254       9.378\n",
            "ln_remittances     0.0860      0.004     21.878      0.000       0.078       0.094\n",
            "==============================================================================\n",
            "Omnibus:                      190.976   Durbin-Watson:                   1.291\n",
            "Prob(Omnibus):                  0.000   Jarque-Bera (JB):              295.926\n",
            "Skew:                           0.242   Prob(JB):                     5.50e-65\n",
            "Kurtosis:                       3.811   Cond. No.                         38.5\n",
            "==============================================================================\n",
            "\n",
            "Notes:\n",
            "[1] Standard Errors assume that the covariance matrix of the errors is correctly specified.\n"
          ]
        }
      ]
    },
    {
      "cell_type": "markdown",
      "source": [
        "### Kiểm định Breusch–Pagan một cách trực tiếp bằng lệnh có sẵn trong thư viện statsmodels"
      ],
      "metadata": {
        "id": "nCFUFvYkIfE6"
      }
    },
    {
      "cell_type": "code",
      "source": [
        "X = sm.add_constant(df5['ln_remittances'])  # kiểm định với biến gốc (không log)\n",
        "residuals = model.resid\n",
        "# Thực hiện kiểm định Breusch-Pagan\n",
        "bp_test = het_breuschpagan(residuals, X)\n",
        "labels = ['LM Statistic', 'LM p-value', 'F Statistic', 'F p-value']\n",
        "\n",
        "for name, val in zip(labels, bp_test):\n",
        "    print(f\"{name}: {val}\")"
      ],
      "metadata": {
        "colab": {
          "base_uri": "https://localhost:8080/"
        },
        "id": "8u9T_pOPIlg0",
        "outputId": "d36ed582-f01a-4107-8f13-d29f4f6d37d2"
      },
      "execution_count": 104,
      "outputs": [
        {
          "output_type": "stream",
          "name": "stdout",
          "text": [
            "LM Statistic: 15.86457952659139\n",
            "LM p-value: 6.804030920631935e-05\n",
            "F Statistic: 15.892291756866868\n",
            "F p-value: 6.765123979443373e-05\n"
          ]
        }
      ]
    },
    {
      "cell_type": "markdown",
      "source": [
        "###Chọn trọng số là giá trị dự báo yhat"
      ],
      "metadata": {
        "id": "Loi0FvSqKbAn"
      }
    },
    {
      "cell_type": "code",
      "source": [
        "X0 = sm.add_constant(df['remittances'])\n",
        "model0 = sm.OLS(df['per_expenditure'], X0).fit()\n",
        "df['yhat'] = model0.fittedvalues\n",
        "df['yhat2'] = df['yhat'] ** 2\n",
        "\n",
        "# 2. Tạo trọng số tương đương analytic weights của Stata\n",
        "df_valid = df[df['yhat2'] > 0].copy()\n",
        "weights = 1 / df_valid['yhat2']\n",
        "\n",
        "# 3. Hồi quy WLS giống Stata: analytic weights ~ 1/variance\n",
        "X = sm.add_constant(df_valid['remittances'])\n",
        "y = df_valid['per_expenditure']\n",
        "\n",
        "model0 = sm.WLS(y, X, weights=weights).fit()\n",
        "print(model0.summary())\n"
      ],
      "metadata": {
        "colab": {
          "base_uri": "https://localhost:8080/",
          "height": 1000
        },
        "id": "pmBo9fsLKasW",
        "outputId": "5cdee5ca-a9a6-41d8-9500-2060e190eb81"
      },
      "execution_count": 107,
      "outputs": [
        {
          "output_type": "stream",
          "name": "stdout",
          "text": [
            "                            WLS Regression Results                            \n",
            "==============================================================================\n",
            "Dep. Variable:        per_expenditure   R-squared:                       0.014\n",
            "Model:                            WLS   Adj. R-squared:                  0.014\n",
            "Method:                 Least Squares   F-statistic:                     131.0\n",
            "Date:                Mon, 02 Jun 2025   Prob (F-statistic):           3.85e-30\n",
            "Time:                        11:07:26   Log-Likelihood:            -1.0743e+05\n",
            "No. Observations:                9399   AIC:                         2.149e+05\n",
            "Df Residuals:                    9397   BIC:                         2.149e+05\n",
            "Df Model:                           1                                         \n",
            "Covariance Type:            nonrobust                                         \n",
            "===============================================================================\n",
            "                  coef    std err          t      P>|t|      [0.025      0.975]\n",
            "-------------------------------------------------------------------------------\n",
            "const        2.511e+04    248.091    101.229      0.000    2.46e+04    2.56e+04\n",
            "remittances     0.1871      0.016     11.447      0.000       0.155       0.219\n",
            "==============================================================================\n",
            "Omnibus:                    10745.329   Durbin-Watson:                   1.559\n",
            "Prob(Omnibus):                  0.000   Jarque-Bera (JB):          1615048.784\n",
            "Skew:                           5.816   Prob(JB):                         0.00\n",
            "Kurtosis:                      66.156   Cond. No.                     1.65e+04\n",
            "==============================================================================\n",
            "\n",
            "Notes:\n",
            "[1] Standard Errors assume that the covariance matrix of the errors is correctly specified.\n",
            "[2] The condition number is large, 1.65e+04. This might indicate that there are\n",
            "strong multicollinearity or other numerical problems.\n"
          ]
        },
        {
          "output_type": "error",
          "ename": "KeyError",
          "evalue": "'weight'",
          "traceback": [
            "\u001b[0;31m---------------------------------------------------------------------------\u001b[0m",
            "\u001b[0;31mKeyError\u001b[0m                                  Traceback (most recent call last)",
            "\u001b[0;32m/usr/local/lib/python3.11/dist-packages/pandas/core/indexes/base.py\u001b[0m in \u001b[0;36mget_loc\u001b[0;34m(self, key)\u001b[0m\n\u001b[1;32m   3804\u001b[0m         \u001b[0;32mtry\u001b[0m\u001b[0;34m:\u001b[0m\u001b[0;34m\u001b[0m\u001b[0;34m\u001b[0m\u001b[0m\n\u001b[0;32m-> 3805\u001b[0;31m             \u001b[0;32mreturn\u001b[0m \u001b[0mself\u001b[0m\u001b[0;34m.\u001b[0m\u001b[0m_engine\u001b[0m\u001b[0;34m.\u001b[0m\u001b[0mget_loc\u001b[0m\u001b[0;34m(\u001b[0m\u001b[0mcasted_key\u001b[0m\u001b[0;34m)\u001b[0m\u001b[0;34m\u001b[0m\u001b[0;34m\u001b[0m\u001b[0m\n\u001b[0m\u001b[1;32m   3806\u001b[0m         \u001b[0;32mexcept\u001b[0m \u001b[0mKeyError\u001b[0m \u001b[0;32mas\u001b[0m \u001b[0merr\u001b[0m\u001b[0;34m:\u001b[0m\u001b[0;34m\u001b[0m\u001b[0;34m\u001b[0m\u001b[0m\n",
            "\u001b[0;32mindex.pyx\u001b[0m in \u001b[0;36mpandas._libs.index.IndexEngine.get_loc\u001b[0;34m()\u001b[0m\n",
            "\u001b[0;32mindex.pyx\u001b[0m in \u001b[0;36mpandas._libs.index.IndexEngine.get_loc\u001b[0;34m()\u001b[0m\n",
            "\u001b[0;32mpandas/_libs/hashtable_class_helper.pxi\u001b[0m in \u001b[0;36mpandas._libs.hashtable.PyObjectHashTable.get_item\u001b[0;34m()\u001b[0m\n",
            "\u001b[0;32mpandas/_libs/hashtable_class_helper.pxi\u001b[0m in \u001b[0;36mpandas._libs.hashtable.PyObjectHashTable.get_item\u001b[0;34m()\u001b[0m\n",
            "\u001b[0;31mKeyError\u001b[0m: 'weight'",
            "\nThe above exception was the direct cause of the following exception:\n",
            "\u001b[0;31mKeyError\u001b[0m                                  Traceback (most recent call last)",
            "\u001b[0;32m<ipython-input-107-eee9c56697cc>\u001b[0m in \u001b[0;36m<cell line: 0>\u001b[0;34m()\u001b[0m\n\u001b[1;32m     15\u001b[0m \u001b[0mprint\u001b[0m\u001b[0;34m(\u001b[0m\u001b[0mmodel0\u001b[0m\u001b[0;34m.\u001b[0m\u001b[0msummary\u001b[0m\u001b[0;34m(\u001b[0m\u001b[0;34m)\u001b[0m\u001b[0;34m)\u001b[0m\u001b[0;34m\u001b[0m\u001b[0;34m\u001b[0m\u001b[0m\n\u001b[1;32m     16\u001b[0m \u001b[0;31m# OR\u001b[0m\u001b[0;34m\u001b[0m\u001b[0;34m\u001b[0m\u001b[0m\n\u001b[0;32m---> 17\u001b[0;31m \u001b[0mdf\u001b[0m\u001b[0;34m[\u001b[0m\u001b[0;34m'per_expenditure_w'\u001b[0m\u001b[0;34m]\u001b[0m \u001b[0;34m=\u001b[0m \u001b[0mdf\u001b[0m\u001b[0;34m[\u001b[0m\u001b[0;34m'per_expenditure'\u001b[0m\u001b[0;34m]\u001b[0m \u001b[0;34m/\u001b[0m \u001b[0mdf\u001b[0m\u001b[0;34m[\u001b[0m\u001b[0;34m'weight'\u001b[0m\u001b[0;34m]\u001b[0m\u001b[0;34m\u001b[0m\u001b[0;34m\u001b[0m\u001b[0m\n\u001b[0m\u001b[1;32m     18\u001b[0m \u001b[0mdf\u001b[0m\u001b[0;34m[\u001b[0m\u001b[0;34m'remittances_w'\u001b[0m\u001b[0;34m]\u001b[0m \u001b[0;34m=\u001b[0m \u001b[0mdf\u001b[0m\u001b[0;34m[\u001b[0m\u001b[0;34m'remittances'\u001b[0m\u001b[0;34m]\u001b[0m \u001b[0;34m/\u001b[0m \u001b[0mdf\u001b[0m\u001b[0;34m[\u001b[0m\u001b[0;34m'weight'\u001b[0m\u001b[0;34m]\u001b[0m\u001b[0;34m\u001b[0m\u001b[0;34m\u001b[0m\u001b[0m\n\u001b[1;32m     19\u001b[0m \u001b[0mX1\u001b[0m \u001b[0;34m=\u001b[0m \u001b[0msm\u001b[0m\u001b[0;34m.\u001b[0m\u001b[0madd_constant\u001b[0m\u001b[0;34m(\u001b[0m\u001b[0mdf\u001b[0m\u001b[0;34m[\u001b[0m\u001b[0;34m'remittances_w'\u001b[0m\u001b[0;34m]\u001b[0m\u001b[0;34m)\u001b[0m\u001b[0;34m\u001b[0m\u001b[0;34m\u001b[0m\u001b[0m\n",
            "\u001b[0;32m/usr/local/lib/python3.11/dist-packages/pandas/core/frame.py\u001b[0m in \u001b[0;36m__getitem__\u001b[0;34m(self, key)\u001b[0m\n\u001b[1;32m   4100\u001b[0m             \u001b[0;32mif\u001b[0m \u001b[0mself\u001b[0m\u001b[0;34m.\u001b[0m\u001b[0mcolumns\u001b[0m\u001b[0;34m.\u001b[0m\u001b[0mnlevels\u001b[0m \u001b[0;34m>\u001b[0m \u001b[0;36m1\u001b[0m\u001b[0;34m:\u001b[0m\u001b[0;34m\u001b[0m\u001b[0;34m\u001b[0m\u001b[0m\n\u001b[1;32m   4101\u001b[0m                 \u001b[0;32mreturn\u001b[0m \u001b[0mself\u001b[0m\u001b[0;34m.\u001b[0m\u001b[0m_getitem_multilevel\u001b[0m\u001b[0;34m(\u001b[0m\u001b[0mkey\u001b[0m\u001b[0;34m)\u001b[0m\u001b[0;34m\u001b[0m\u001b[0;34m\u001b[0m\u001b[0m\n\u001b[0;32m-> 4102\u001b[0;31m             \u001b[0mindexer\u001b[0m \u001b[0;34m=\u001b[0m \u001b[0mself\u001b[0m\u001b[0;34m.\u001b[0m\u001b[0mcolumns\u001b[0m\u001b[0;34m.\u001b[0m\u001b[0mget_loc\u001b[0m\u001b[0;34m(\u001b[0m\u001b[0mkey\u001b[0m\u001b[0;34m)\u001b[0m\u001b[0;34m\u001b[0m\u001b[0;34m\u001b[0m\u001b[0m\n\u001b[0m\u001b[1;32m   4103\u001b[0m             \u001b[0;32mif\u001b[0m \u001b[0mis_integer\u001b[0m\u001b[0;34m(\u001b[0m\u001b[0mindexer\u001b[0m\u001b[0;34m)\u001b[0m\u001b[0;34m:\u001b[0m\u001b[0;34m\u001b[0m\u001b[0;34m\u001b[0m\u001b[0m\n\u001b[1;32m   4104\u001b[0m                 \u001b[0mindexer\u001b[0m \u001b[0;34m=\u001b[0m \u001b[0;34m[\u001b[0m\u001b[0mindexer\u001b[0m\u001b[0;34m]\u001b[0m\u001b[0;34m\u001b[0m\u001b[0;34m\u001b[0m\u001b[0m\n",
            "\u001b[0;32m/usr/local/lib/python3.11/dist-packages/pandas/core/indexes/base.py\u001b[0m in \u001b[0;36mget_loc\u001b[0;34m(self, key)\u001b[0m\n\u001b[1;32m   3810\u001b[0m             ):\n\u001b[1;32m   3811\u001b[0m                 \u001b[0;32mraise\u001b[0m \u001b[0mInvalidIndexError\u001b[0m\u001b[0;34m(\u001b[0m\u001b[0mkey\u001b[0m\u001b[0;34m)\u001b[0m\u001b[0;34m\u001b[0m\u001b[0;34m\u001b[0m\u001b[0m\n\u001b[0;32m-> 3812\u001b[0;31m             \u001b[0;32mraise\u001b[0m \u001b[0mKeyError\u001b[0m\u001b[0;34m(\u001b[0m\u001b[0mkey\u001b[0m\u001b[0;34m)\u001b[0m \u001b[0;32mfrom\u001b[0m \u001b[0merr\u001b[0m\u001b[0;34m\u001b[0m\u001b[0;34m\u001b[0m\u001b[0m\n\u001b[0m\u001b[1;32m   3813\u001b[0m         \u001b[0;32mexcept\u001b[0m \u001b[0mTypeError\u001b[0m\u001b[0;34m:\u001b[0m\u001b[0;34m\u001b[0m\u001b[0;34m\u001b[0m\u001b[0m\n\u001b[1;32m   3814\u001b[0m             \u001b[0;31m# If we have a listlike key, _check_indexing_error will raise\u001b[0m\u001b[0;34m\u001b[0m\u001b[0;34m\u001b[0m\u001b[0m\n",
            "\u001b[0;31mKeyError\u001b[0m: 'weight'"
          ]
        }
      ]
    },
    {
      "cell_type": "code",
      "source": [
        "# OR\n",
        "df['per_expenditure_w'] = df['per_expenditure']* df['weights']\n",
        "df['remittances_w'] = df['remittances'] * df['weights']\n",
        "X1 = sm.add_constant(df['remittances_w'])\n",
        "\n",
        "model1 = sm.OLS(df['per_expenditure_w'], X1).fit()\n",
        "print(model1.summary())"
      ],
      "metadata": {
        "colab": {
          "base_uri": "https://localhost:8080/",
          "height": 547
        },
        "id": "ujvq3cQdU2n-",
        "outputId": "3eb6e602-d699-4881-a3d2-d009202bca67"
      },
      "execution_count": 110,
      "outputs": [
        {
          "output_type": "error",
          "ename": "KeyError",
          "evalue": "'weights'",
          "traceback": [
            "\u001b[0;31m---------------------------------------------------------------------------\u001b[0m",
            "\u001b[0;31mKeyError\u001b[0m                                  Traceback (most recent call last)",
            "\u001b[0;32m/usr/local/lib/python3.11/dist-packages/pandas/core/indexes/base.py\u001b[0m in \u001b[0;36mget_loc\u001b[0;34m(self, key)\u001b[0m\n\u001b[1;32m   3804\u001b[0m         \u001b[0;32mtry\u001b[0m\u001b[0;34m:\u001b[0m\u001b[0;34m\u001b[0m\u001b[0;34m\u001b[0m\u001b[0m\n\u001b[0;32m-> 3805\u001b[0;31m             \u001b[0;32mreturn\u001b[0m \u001b[0mself\u001b[0m\u001b[0;34m.\u001b[0m\u001b[0m_engine\u001b[0m\u001b[0;34m.\u001b[0m\u001b[0mget_loc\u001b[0m\u001b[0;34m(\u001b[0m\u001b[0mcasted_key\u001b[0m\u001b[0;34m)\u001b[0m\u001b[0;34m\u001b[0m\u001b[0;34m\u001b[0m\u001b[0m\n\u001b[0m\u001b[1;32m   3806\u001b[0m         \u001b[0;32mexcept\u001b[0m \u001b[0mKeyError\u001b[0m \u001b[0;32mas\u001b[0m \u001b[0merr\u001b[0m\u001b[0;34m:\u001b[0m\u001b[0;34m\u001b[0m\u001b[0;34m\u001b[0m\u001b[0m\n",
            "\u001b[0;32mindex.pyx\u001b[0m in \u001b[0;36mpandas._libs.index.IndexEngine.get_loc\u001b[0;34m()\u001b[0m\n",
            "\u001b[0;32mindex.pyx\u001b[0m in \u001b[0;36mpandas._libs.index.IndexEngine.get_loc\u001b[0;34m()\u001b[0m\n",
            "\u001b[0;32mpandas/_libs/hashtable_class_helper.pxi\u001b[0m in \u001b[0;36mpandas._libs.hashtable.PyObjectHashTable.get_item\u001b[0;34m()\u001b[0m\n",
            "\u001b[0;32mpandas/_libs/hashtable_class_helper.pxi\u001b[0m in \u001b[0;36mpandas._libs.hashtable.PyObjectHashTable.get_item\u001b[0;34m()\u001b[0m\n",
            "\u001b[0;31mKeyError\u001b[0m: 'weights'",
            "\nThe above exception was the direct cause of the following exception:\n",
            "\u001b[0;31mKeyError\u001b[0m                                  Traceback (most recent call last)",
            "\u001b[0;32m<ipython-input-110-88a39626ee7b>\u001b[0m in \u001b[0;36m<cell line: 0>\u001b[0;34m()\u001b[0m\n\u001b[1;32m      1\u001b[0m \u001b[0;31m# OR\u001b[0m\u001b[0;34m\u001b[0m\u001b[0;34m\u001b[0m\u001b[0m\n\u001b[0;32m----> 2\u001b[0;31m \u001b[0mdf\u001b[0m\u001b[0;34m[\u001b[0m\u001b[0;34m'per_expenditure_w'\u001b[0m\u001b[0;34m]\u001b[0m \u001b[0;34m=\u001b[0m \u001b[0mdf\u001b[0m\u001b[0;34m[\u001b[0m\u001b[0;34m'per_expenditure'\u001b[0m\u001b[0;34m]\u001b[0m\u001b[0;34m*\u001b[0m \u001b[0mdf\u001b[0m\u001b[0;34m[\u001b[0m\u001b[0;34m'weights'\u001b[0m\u001b[0;34m]\u001b[0m\u001b[0;34m\u001b[0m\u001b[0;34m\u001b[0m\u001b[0m\n\u001b[0m\u001b[1;32m      3\u001b[0m \u001b[0mdf\u001b[0m\u001b[0;34m[\u001b[0m\u001b[0;34m'remittances_w'\u001b[0m\u001b[0;34m]\u001b[0m \u001b[0;34m=\u001b[0m \u001b[0mdf\u001b[0m\u001b[0;34m[\u001b[0m\u001b[0;34m'remittances'\u001b[0m\u001b[0;34m]\u001b[0m \u001b[0;34m*\u001b[0m \u001b[0mdf\u001b[0m\u001b[0;34m[\u001b[0m\u001b[0;34m'weights'\u001b[0m\u001b[0;34m]\u001b[0m\u001b[0;34m\u001b[0m\u001b[0;34m\u001b[0m\u001b[0m\n\u001b[1;32m      4\u001b[0m \u001b[0mX1\u001b[0m \u001b[0;34m=\u001b[0m \u001b[0msm\u001b[0m\u001b[0;34m.\u001b[0m\u001b[0madd_constant\u001b[0m\u001b[0;34m(\u001b[0m\u001b[0mdf\u001b[0m\u001b[0;34m[\u001b[0m\u001b[0;34m'remittances_w'\u001b[0m\u001b[0;34m]\u001b[0m\u001b[0;34m)\u001b[0m\u001b[0;34m\u001b[0m\u001b[0;34m\u001b[0m\u001b[0m\n\u001b[1;32m      5\u001b[0m \u001b[0;34m\u001b[0m\u001b[0m\n",
            "\u001b[0;32m/usr/local/lib/python3.11/dist-packages/pandas/core/frame.py\u001b[0m in \u001b[0;36m__getitem__\u001b[0;34m(self, key)\u001b[0m\n\u001b[1;32m   4100\u001b[0m             \u001b[0;32mif\u001b[0m \u001b[0mself\u001b[0m\u001b[0;34m.\u001b[0m\u001b[0mcolumns\u001b[0m\u001b[0;34m.\u001b[0m\u001b[0mnlevels\u001b[0m \u001b[0;34m>\u001b[0m \u001b[0;36m1\u001b[0m\u001b[0;34m:\u001b[0m\u001b[0;34m\u001b[0m\u001b[0;34m\u001b[0m\u001b[0m\n\u001b[1;32m   4101\u001b[0m                 \u001b[0;32mreturn\u001b[0m \u001b[0mself\u001b[0m\u001b[0;34m.\u001b[0m\u001b[0m_getitem_multilevel\u001b[0m\u001b[0;34m(\u001b[0m\u001b[0mkey\u001b[0m\u001b[0;34m)\u001b[0m\u001b[0;34m\u001b[0m\u001b[0;34m\u001b[0m\u001b[0m\n\u001b[0;32m-> 4102\u001b[0;31m             \u001b[0mindexer\u001b[0m \u001b[0;34m=\u001b[0m \u001b[0mself\u001b[0m\u001b[0;34m.\u001b[0m\u001b[0mcolumns\u001b[0m\u001b[0;34m.\u001b[0m\u001b[0mget_loc\u001b[0m\u001b[0;34m(\u001b[0m\u001b[0mkey\u001b[0m\u001b[0;34m)\u001b[0m\u001b[0;34m\u001b[0m\u001b[0;34m\u001b[0m\u001b[0m\n\u001b[0m\u001b[1;32m   4103\u001b[0m             \u001b[0;32mif\u001b[0m \u001b[0mis_integer\u001b[0m\u001b[0;34m(\u001b[0m\u001b[0mindexer\u001b[0m\u001b[0;34m)\u001b[0m\u001b[0;34m:\u001b[0m\u001b[0;34m\u001b[0m\u001b[0;34m\u001b[0m\u001b[0m\n\u001b[1;32m   4104\u001b[0m                 \u001b[0mindexer\u001b[0m \u001b[0;34m=\u001b[0m \u001b[0;34m[\u001b[0m\u001b[0mindexer\u001b[0m\u001b[0;34m]\u001b[0m\u001b[0;34m\u001b[0m\u001b[0;34m\u001b[0m\u001b[0m\n",
            "\u001b[0;32m/usr/local/lib/python3.11/dist-packages/pandas/core/indexes/base.py\u001b[0m in \u001b[0;36mget_loc\u001b[0;34m(self, key)\u001b[0m\n\u001b[1;32m   3810\u001b[0m             ):\n\u001b[1;32m   3811\u001b[0m                 \u001b[0;32mraise\u001b[0m \u001b[0mInvalidIndexError\u001b[0m\u001b[0;34m(\u001b[0m\u001b[0mkey\u001b[0m\u001b[0;34m)\u001b[0m\u001b[0;34m\u001b[0m\u001b[0;34m\u001b[0m\u001b[0m\n\u001b[0;32m-> 3812\u001b[0;31m             \u001b[0;32mraise\u001b[0m \u001b[0mKeyError\u001b[0m\u001b[0;34m(\u001b[0m\u001b[0mkey\u001b[0m\u001b[0;34m)\u001b[0m \u001b[0;32mfrom\u001b[0m \u001b[0merr\u001b[0m\u001b[0;34m\u001b[0m\u001b[0;34m\u001b[0m\u001b[0m\n\u001b[0m\u001b[1;32m   3813\u001b[0m         \u001b[0;32mexcept\u001b[0m \u001b[0mTypeError\u001b[0m\u001b[0;34m:\u001b[0m\u001b[0;34m\u001b[0m\u001b[0;34m\u001b[0m\u001b[0m\n\u001b[1;32m   3814\u001b[0m             \u001b[0;31m# If we have a listlike key, _check_indexing_error will raise\u001b[0m\u001b[0;34m\u001b[0m\u001b[0;34m\u001b[0m\u001b[0m\n",
            "\u001b[0;31mKeyError\u001b[0m: 'weights'"
          ]
        }
      ]
    },
    {
      "cell_type": "markdown",
      "source": [
        "### Kiểm định Breusch–Pagan một cách trực tiếp bằng lệnh có sẵn trong thư viện statsmodels\n",
        "\n"
      ],
      "metadata": {
        "id": "PYwDOxQ-TB0c"
      }
    },
    {
      "cell_type": "code",
      "source": [],
      "metadata": {
        "colab": {
          "base_uri": "https://localhost:8080/"
        },
        "id": "ISHb_ulUTBjm",
        "outputId": "c0ce9c73-cd0a-4925-bfda-5501ed4535c7"
      },
      "execution_count": 106,
      "outputs": [
        {
          "output_type": "stream",
          "name": "stdout",
          "text": [
            "LM Statistic: 22.457021598659654\n",
            "LM p-value: 2.148984705927366e-06\n",
            "F Statistic: 22.50601660427599\n",
            "F p-value: 2.1257388791796755e-06\n"
          ]
        }
      ]
    },
    {
      "cell_type": "markdown",
      "source": [
        "#Vì sao không dùng luôn pandas.read_stata()?\n",
        "1. pyreadstat là thư viện chuyên đọc file STATA (dta) rất mạnh và nhanh\n",
        "2. Được viết bằng C → rất nhanh và ổn định hơn cho file .dta nặng hoặc nhiều nhãn phức tạp.\n",
        "3. Hỗ trợ đọc label (value formats) rõ ràng, có thêm meta.\n",
        "4. Là backend của pandas.read_stata() luôn đó! Pandas thực ra dùng pyreadstat phía sau."
      ],
      "metadata": {
        "id": "bf-goPLUUBGP"
      }
    },
    {
      "cell_type": "markdown",
      "source": [
        "\n",
        "\n",
        "<h2 style=\"font-size: 26px; font-weight: bold; font-family:'Nunito'; color: purple;\">About the Authors:</h2>\n",
        "\n",
        "<a href=\"https://www.linkedin.com/in/truongnhung2002\"> Nhung Truong (Kristen Zhang) </a> has a degree in Investment Economics from UEH, with a focus on quantitative research. Her work revolves around data analysis and research. Currently, she is working at HAPRI as a research assistant."
      ],
      "metadata": {
        "id": "npivdMpQyMGP"
      }
    },
    {
      "cell_type": "markdown",
      "source": [
        "## <h3 align=\"center\"> © Nhung Truong. All rights reserved. <h3/>\n",
        "\n",
        "<p>"
      ],
      "metadata": {
        "id": "sbTm0zL-0Zq4"
      }
    }
  ]
}