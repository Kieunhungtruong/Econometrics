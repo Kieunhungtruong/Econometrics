{
  "nbformat": 4,
  "nbformat_minor": 0,
  "metadata": {
    "colab": {
      "provenance": [],
      "toc_visible": true,
      "mount_file_id": "1VEzdo2cKrpd7wX_BWAoFBC1nBVDVKaTc",
      "authorship_tag": "ABX9TyNiWnrqm88qkHCWXVcPZcpD"
    },
    "kernelspec": {
      "name": "python3",
      "display_name": "Python 3"
    },
    "language_info": {
      "name": "python"
    }
  },
  "cells": [
    {
      "cell_type": "markdown",
      "source": [
        "<div style=\"display: flex; flex-direction: column; align-items: center; justify-content: center;\">\n",
        "    <a href=\"https://www.hapri.org/\" target=\"_blank\">\n",
        "        <img src=\"https://media.licdn.com/dms/image/v2/C510BAQHfKKEcpmwqnQ/company-logo_200_200/company-logo_200_200/0/1630623930351?e=1749686400&amp;v=beta&amp;t=lHyn6J1Qg4cUQcmf7CcOUvRiMN4WzggNO40SO2yZQXI\"\n",
        "             width=\"100\"\n",
        "             alt=\"HAPRI-Viện Nghiên cứu Chính sách Nông nghiệp & Sức khỏe\">\n",
        "    </a>\n",
        "    <h1 style=\"text-align: center; font-size: 24px;\">Chapter 1</h1>\n",
        "</div>\n"
      ],
      "metadata": {
        "id": "0czTQagV3jFr"
      }
    },
    {
      "cell_type": "code",
      "execution_count": 1,
      "metadata": {
        "colab": {
          "base_uri": "https://localhost:8080/"
        },
        "id": "oYbL8p5X1fIE",
        "outputId": "64e24260-514e-4ce0-f3ea-38a498dfdac8"
      },
      "outputs": [
        {
          "output_type": "stream",
          "name": "stdout",
          "text": [
            "     tinh  huyen  xa  diaban  hoso  num_migration  marital_status  HHsize  \\\n",
            "0  Ha Noi      1   4       8    14            NaN               0     2.0   \n",
            "1  Ha Noi      1   4       8    15            NaN               1     5.0   \n",
            "2  Ha Noi      1   4       8    19            NaN               1     2.0   \n",
            "3  Ha Noi      1   7       6    13            NaN               1     3.0   \n",
            "4  Ha Noi      1   7       6    14            NaN               1     5.0   \n",
            "\n",
            "   agehead  num_children0_5  ...  durables_share  housing_share  others_share  \\\n",
            "0     63.0              0.0  ...        0.000000       0.030590      0.021175   \n",
            "1     37.0              0.0  ...        0.026955       0.011273      0.006304   \n",
            "2     61.0              0.0  ...        0.000000       0.027630      0.013743   \n",
            "3     62.0              0.0  ...        0.018952       0.022694      0.014611   \n",
            "4     62.0              0.0  ...        0.000000       0.067794      0.004254   \n",
            "\n",
            "   healthcare_share  education_share  RedRiverDelta  Northmidlandareas  \\\n",
            "0          0.004854         0.044689            1.0                0.0   \n",
            "1          0.000797         0.006511            1.0                0.0   \n",
            "2          0.014355         0.000000            1.0                0.0   \n",
            "3          0.002366         0.056978            1.0                0.0   \n",
            "4          0.011658         0.002564            1.0                0.0   \n",
            "\n",
            "   CentralCoast Centralhighlands  MekongRiverDelta  \n",
            "0           0.0              0.0               0.0  \n",
            "1           0.0              0.0               0.0  \n",
            "2           0.0              0.0               0.0  \n",
            "3           0.0              0.0               0.0  \n",
            "4           0.0              0.0               0.0  \n",
            "\n",
            "[5 rows x 65 columns]\n"
          ]
        },
        {
          "output_type": "stream",
          "name": "stderr",
          "text": [
            "<ipython-input-1-74fd58e8286a>:4: UnicodeWarning: \n",
            "One or more strings in the dta file could not be decoded using utf-8, and\n",
            "so the fallback encoding of latin-1 is being used.  This can happen when a file\n",
            "has been incorrectly encoded by Stata or some other software. You should verify\n",
            "the string values returned are correct.\n",
            "  df = pd.read_stata(\"/econometrics/rawdata/migration_remittances_16_full.dta\")\n"
          ]
        }
      ],
      "source": [
        "import pandas as pd\n",
        "\n",
        "# Đọc file Stata\n",
        "df = pd.read_stata(\"/econometrics/rawdata/migration_remittances_16_full.dta\")\n",
        "\n",
        "# Xem thông tin dữ liệu\n",
        "print(df.head())\n"
      ]
    },
    {
      "cell_type": "code",
      "source": [],
      "metadata": {
        "id": "Js8QYN093bpE"
      },
      "execution_count": null,
      "outputs": []
    },
    {
      "cell_type": "markdown",
      "source": [],
      "metadata": {
        "id": "BU55CrYk3cW0"
      }
    }
  ]
}